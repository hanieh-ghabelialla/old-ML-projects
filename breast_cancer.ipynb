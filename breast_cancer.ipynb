{
  "nbformat": 4,
  "nbformat_minor": 0,
  "metadata": {
    "colab": {
      "name": "breast cancer.ipynb",
      "provenance": []
    },
    "kernelspec": {
      "name": "python3",
      "display_name": "Python 3"
    },
    "language_info": {
      "name": "python"
    }
  },
  "cells": [
    {
      "cell_type": "markdown",
      "metadata": {
        "id": "BE7_O86JCLf5"
      },
      "source": [
        "\n",
        "First we should import the necessary libraries"
      ]
    },
    {
      "cell_type": "code",
      "metadata": {
        "id": "1PVxhS7aHRL5"
      },
      "source": [
        "import numpy as np\n",
        "import matplotlib.pyplot as plt\n",
        "from sklearn import svm\n",
        "import pandas as pd\n",
        "from sklearn.model_selection import train_test_split \n",
        "from sklearn.metrics import classification_report\n",
        "from sklearn import metrics, preprocessing\n",
        "from sklearn.metrics import log_loss\n",
        "from sklearn.preprocessing import MinMaxScaler"
      ],
      "execution_count": null,
      "outputs": []
    },
    {
      "cell_type": "markdown",
      "metadata": {
        "id": "gmNDm_87QHjJ"
      },
      "source": [
        "you can see a part of dataset by the code bellow\n"
      ]
    },
    {
      "cell_type": "code",
      "metadata": {
        "id": "_UKDLTWKKt-1",
        "colab": {
          "base_uri": "https://localhost:8080/",
          "height": 204
        },
        "outputId": "676b3325-5943-4399-8444-b40e6a2b4e67"
      },
      "source": [
        "Data = pd.read_csv('/content/drive/MyDrive/cancer dataset.csv')\n",
        "Data.head()"
      ],
      "execution_count": null,
      "outputs": [
        {
          "output_type": "execute_result",
          "data": {
            "text/html": [
              "<div>\n",
              "<style scoped>\n",
              "    .dataframe tbody tr th:only-of-type {\n",
              "        vertical-align: middle;\n",
              "    }\n",
              "\n",
              "    .dataframe tbody tr th {\n",
              "        vertical-align: top;\n",
              "    }\n",
              "\n",
              "    .dataframe thead th {\n",
              "        text-align: right;\n",
              "    }\n",
              "</style>\n",
              "<table border=\"1\" class=\"dataframe\">\n",
              "  <thead>\n",
              "    <tr style=\"text-align: right;\">\n",
              "      <th></th>\n",
              "      <th>Age</th>\n",
              "      <th>BMI</th>\n",
              "      <th>Glucose</th>\n",
              "      <th>Insulin</th>\n",
              "      <th>HOMA</th>\n",
              "      <th>Leptin</th>\n",
              "      <th>Adiponectin</th>\n",
              "      <th>Resistin</th>\n",
              "      <th>MCP.1</th>\n",
              "      <th>Classification</th>\n",
              "    </tr>\n",
              "  </thead>\n",
              "  <tbody>\n",
              "    <tr>\n",
              "      <th>0</th>\n",
              "      <td>48</td>\n",
              "      <td>23.500000</td>\n",
              "      <td>70</td>\n",
              "      <td>2.707</td>\n",
              "      <td>0.467409</td>\n",
              "      <td>8.8071</td>\n",
              "      <td>9.702400</td>\n",
              "      <td>7.99585</td>\n",
              "      <td>417.114</td>\n",
              "      <td>1</td>\n",
              "    </tr>\n",
              "    <tr>\n",
              "      <th>1</th>\n",
              "      <td>83</td>\n",
              "      <td>20.690495</td>\n",
              "      <td>92</td>\n",
              "      <td>3.115</td>\n",
              "      <td>0.706897</td>\n",
              "      <td>8.8438</td>\n",
              "      <td>5.429285</td>\n",
              "      <td>4.06405</td>\n",
              "      <td>468.786</td>\n",
              "      <td>1</td>\n",
              "    </tr>\n",
              "    <tr>\n",
              "      <th>2</th>\n",
              "      <td>82</td>\n",
              "      <td>23.124670</td>\n",
              "      <td>91</td>\n",
              "      <td>4.498</td>\n",
              "      <td>1.009651</td>\n",
              "      <td>17.9393</td>\n",
              "      <td>22.432040</td>\n",
              "      <td>9.27715</td>\n",
              "      <td>554.697</td>\n",
              "      <td>1</td>\n",
              "    </tr>\n",
              "    <tr>\n",
              "      <th>3</th>\n",
              "      <td>68</td>\n",
              "      <td>21.367521</td>\n",
              "      <td>77</td>\n",
              "      <td>3.226</td>\n",
              "      <td>0.612725</td>\n",
              "      <td>9.8827</td>\n",
              "      <td>7.169560</td>\n",
              "      <td>12.76600</td>\n",
              "      <td>928.220</td>\n",
              "      <td>1</td>\n",
              "    </tr>\n",
              "    <tr>\n",
              "      <th>4</th>\n",
              "      <td>86</td>\n",
              "      <td>21.111111</td>\n",
              "      <td>92</td>\n",
              "      <td>3.549</td>\n",
              "      <td>0.805386</td>\n",
              "      <td>6.6994</td>\n",
              "      <td>4.819240</td>\n",
              "      <td>10.57635</td>\n",
              "      <td>773.920</td>\n",
              "      <td>1</td>\n",
              "    </tr>\n",
              "  </tbody>\n",
              "</table>\n",
              "</div>"
            ],
            "text/plain": [
              "   Age        BMI  Glucose  ...  Resistin    MCP.1  Classification\n",
              "0   48  23.500000       70  ...   7.99585  417.114               1\n",
              "1   83  20.690495       92  ...   4.06405  468.786               1\n",
              "2   82  23.124670       91  ...   9.27715  554.697               1\n",
              "3   68  21.367521       77  ...  12.76600  928.220               1\n",
              "4   86  21.111111       92  ...  10.57635  773.920               1\n",
              "\n",
              "[5 rows x 10 columns]"
            ]
          },
          "metadata": {
            "tags": []
          },
          "execution_count": 3
        }
      ]
    },
    {
      "cell_type": "markdown",
      "metadata": {
        "id": "sM192SsH-3hV"
      },
      "source": [
        "The ''preprocessing_the_data'' function consists of three main parts for preprocessing: in the first step i change the form of data to a numpy array then i separate the lables and features \n",
        "columns. one the second step i worked on lables and modify the value of lables from (1,2) to (0,1).in the third step i Normalize the features for improving the results."
      ]
    },
    {
      "cell_type": "code",
      "metadata": {
        "id": "W6BC2p1quafe"
      },
      "source": [
        "def preprocessing_the_data(Data):\n",
        "  Data = np.array(Data)\n",
        "  Class = Data[:, 9]\n",
        "  Features = Data[:, 0:-1]\n",
        "  lb = preprocessing.LabelBinarizer()\n",
        "  Class = lb.fit_transform(Class)\n",
        "  scalar = MinMaxScaler()\n",
        "  data_scaled = scalar.fit_transform(Features)\n",
        "####print(data_scaled)\n",
        "\n",
        "  return Class,data_scaled\n",
        "\n",
        "\n",
        "\n",
        "\n"
      ],
      "execution_count": null,
      "outputs": []
    },
    {
      "cell_type": "markdown",
      "metadata": {
        "id": "A61RpdbpRddP"
      },
      "source": [
        "in this cell i split the data into three parts: 1- train 2- validation data  3- test data.......  totally 25 percentages of data is devoted to validation and test  and 75 percentages is for training the model"
      ]
    },
    {
      "cell_type": "code",
      "metadata": {
        "colab": {
          "base_uri": "https://localhost:8080/"
        },
        "id": "i9-hpCR5yv2Q",
        "outputId": "33857558-4b2c-4817-dfdb-f14bc99ed572"
      },
      "source": [
        "\n",
        "Class,data_scaled= preprocessing_the_data(Data)\n",
        "X_train, X_test, y_train, y_test = train_test_split(data_scaled, Class, test_size=0.25, random_state=42, stratify=Class)\n",
        "X_test, X_val, y_test, y_val = train_test_split(X_test, y_test, test_size=0.5, random_state=42, stratify=y_test)\n",
        "\n",
        "print(\"X_train shape : \",X_train.shape)\n",
        "print(\"y_train shape : \",y_train.shape)\n",
        "print(\"X_test shape :\",X_test.shape)\n",
        "print(\"y_test shape \",y_test.shape)"
      ],
      "execution_count": null,
      "outputs": [
        {
          "output_type": "stream",
          "text": [
            "X_train shape :  (87, 9)\n",
            "y_train shape :  (87, 1)\n",
            "X_test shape : (14, 9)\n",
            "y_test shape  (14, 1)\n"
          ],
          "name": "stdout"
        }
      ]
    },
    {
      "cell_type": "markdown",
      "metadata": {
        "id": "R6dyztFCTbGo"
      },
      "source": [
        "in the cell bellow we train the system using SVM algorithm ;after training the model,we can make predictions . also you can see a text report showing the main classification metrics for train data then you can obtain tarin data accuracy and loss\n"
      ]
    },
    {
      "cell_type": "code",
      "metadata": {
        "id": "r6Es5uMiTlAy",
        "colab": {
          "base_uri": "https://localhost:8080/"
        },
        "outputId": "553b7cf5-dbfc-4e21-c38d-4fbf790806b8"
      },
      "source": [
        "clf = svm.SVC(kernel='linear')\n",
        "clf.fit(X_train, y_train)\n",
        "y_pred = clf.predict(X_train)\n",
        "\n",
        "train_accuracy = classification_report(y_train, y_pred)\n",
        "print('\\n\\n Train Report:\\n',train_accuracy )\n",
        "\n",
        "print(\"\\n\\n train Accuracy:\",metrics.accuracy_score(y_train, y_pred))\n",
        "train_loss = log_loss(y_train, y_pred)\n",
        "print('\\n\\n Train Loss: %s.'%train_loss)\n"
      ],
      "execution_count": null,
      "outputs": [
        {
          "output_type": "stream",
          "text": [
            "\n",
            "\n",
            " Train Report:\n",
            "               precision    recall  f1-score   support\n",
            "\n",
            "           0       0.76      0.79      0.77        39\n",
            "           1       0.83      0.79      0.81        48\n",
            "\n",
            "    accuracy                           0.79        87\n",
            "   macro avg       0.79      0.79      0.79        87\n",
            "weighted avg       0.79      0.79      0.79        87\n",
            "\n",
            "\n",
            "\n",
            " train Accuracy: 0.7931034482758621\n",
            "\n",
            "\n",
            " Train Loss: 7.14602726307855.\n"
          ],
          "name": "stdout"
        },
        {
          "output_type": "stream",
          "text": [
            "/usr/local/lib/python3.7/dist-packages/sklearn/utils/validation.py:760: DataConversionWarning: A column-vector y was passed when a 1d array was expected. Please change the shape of y to (n_samples, ), for example using ravel().\n",
            "  y = column_or_1d(y, warn=True)\n"
          ],
          "name": "stderr"
        }
      ]
    },
    {
      "cell_type": "markdown",
      "metadata": {
        "id": "OIiH-4PVbCEc"
      },
      "source": [
        "by the cell bellow you can make predictions with the validation data as the question ask you.  you can see a text report showing the main classification metrics for validation data then you can obtain validation data accuracy and loss."
      ]
    },
    {
      "cell_type": "code",
      "metadata": {
        "colab": {
          "base_uri": "https://localhost:8080/"
        },
        "id": "KrYh7kXaMGQg",
        "outputId": "6fbc598c-241f-4c03-fd77-89677c263e92"
      },
      "source": [
        "y_pred = clf.predict(X_val)\n",
        "print('\\n\\n Validation Report:\\n' ,classification_report(y_val, y_pred))\n",
        "validation_accuracy = metrics.accuracy_score(y_val, y_pred)\n",
        "\n",
        "print(\"\\n\\n Validation Accuracy:\",validation_accuracy)\n",
        "y_pred = clf.predict(X_val)\n",
        "val_loss = log_loss(y_val, y_pred)\n",
        "print('\\n\\n Validation Loss: %s.'%val_loss)\n",
        "\n",
        "\n",
        "\n"
      ],
      "execution_count": null,
      "outputs": [
        {
          "output_type": "stream",
          "text": [
            "\n",
            "\n",
            " Validation Report:\n",
            "               precision    recall  f1-score   support\n",
            "\n",
            "           0       0.80      0.57      0.67         7\n",
            "           1       0.70      0.88      0.78         8\n",
            "\n",
            "    accuracy                           0.73        15\n",
            "   macro avg       0.75      0.72      0.72        15\n",
            "weighted avg       0.75      0.73      0.73        15\n",
            "\n",
            "\n",
            "\n",
            " Validation Accuracy: 0.7333333333333333\n",
            "\n",
            "\n",
            " Validation Loss: 9.210500291462221.\n"
          ],
          "name": "stdout"
        }
      ]
    },
    {
      "cell_type": "markdown",
      "metadata": {
        "id": "Te77qMQWc5cW"
      },
      "source": [
        "by the code bellow you can make predictions with the test data as the question ask you.  you can see a text report showing the main classification metrics for test data then; you can obtain test data accuracy and loss."
      ]
    },
    {
      "cell_type": "code",
      "metadata": {
        "colab": {
          "base_uri": "https://localhost:8080/"
        },
        "id": "ciW7gA0zGgOw",
        "outputId": "5a6a6d1b-7c48-483d-b464-3d744d562afa"
      },
      "source": [
        "y_pred = clf.predict(X_test)\n",
        "print('\\n\\nTest Report:\\n', classification_report(y_test, y_pred))\n",
        "\n",
        "test_accuracy = metrics.accuracy_score(y_test, y_pred)\n",
        "print(\"\\n\\n Test Accuracy:\",test_accuracy)\n",
        "\n",
        "\n",
        "y_pred = clf.predict(X_test)\n",
        "test_loss = log_loss(y_test, y_pred)\n",
        "print('\\n\\n Test Loss: %s.'%test_loss)\n",
        "\n",
        "\n",
        "\n",
        "\n"
      ],
      "execution_count": null,
      "outputs": [
        {
          "output_type": "stream",
          "text": [
            "\n",
            "\n",
            "Test Report:\n",
            "               precision    recall  f1-score   support\n",
            "\n",
            "           0       0.60      1.00      0.75         6\n",
            "           1       1.00      0.50      0.67         8\n",
            "\n",
            "    accuracy                           0.71        14\n",
            "   macro avg       0.80      0.75      0.71        14\n",
            "weighted avg       0.83      0.71      0.70        14\n",
            "\n",
            "\n",
            "\n",
            " Test Accuracy: 0.7142857142857143\n",
            "\n",
            "\n",
            " Test Loss: 9.868221827117338.\n"
          ],
          "name": "stdout"
        }
      ]
    },
    {
      "cell_type": "markdown",
      "metadata": {
        "id": "Q4TcazJgebJt"
      },
      "source": [
        "here you will see the number of support vectores :))"
      ]
    },
    {
      "cell_type": "code",
      "metadata": {
        "colab": {
          "base_uri": "https://localhost:8080/"
        },
        "id": "wkYQ0SiRMdPk",
        "outputId": "7b43cb23-73c9-43ba-d712-54f8c7da2aee"
      },
      "source": [
        "print(' The Number Of Support Vectors are : ', clf.n_support_)\n"
      ],
      "execution_count": null,
      "outputs": [
        {
          "output_type": "stream",
          "text": [
            " The Number Of Support Vectors are :  [38 40]\n"
          ],
          "name": "stdout"
        }
      ]
    },
    {
      "cell_type": "markdown",
      "metadata": {
        "id": "mjHtx887iGO-"
      },
      "source": [
        "by ploting the train,test and validation loss you can easily see the test data has the most loss."
      ]
    },
    {
      "cell_type": "code",
      "metadata": {
        "colab": {
          "base_uri": "https://localhost:8080/",
          "height": 282
        },
        "id": "edlHa6mM9CA4",
        "outputId": "3db5a718-6383-4621-d3cc-f53e47fe25f6"
      },
      "source": [
        "plt.figure()\n",
        "plt.bar(['Train_loss', 'Test_loss', 'Val_loss'], [train_loss, test_loss, val_loss], width=0.8, color='b')\n",
        "plt.title(\"Cross-Entropy Loss\")\n",
        "plt.ylabel('Loss')\n",
        "plt.show()"
      ],
      "execution_count": null,
      "outputs": [
        {
          "output_type": "display_data",
          "data": {
            "image/png": "[encoded data removed]",
            "text/plain": [
              "<Figure size 432x288 with 1 Axes>"
            ]
          },
          "metadata": {
            "tags": [],
            "needs_background": "light"
          }
        }
      ]
    }
  ]
}