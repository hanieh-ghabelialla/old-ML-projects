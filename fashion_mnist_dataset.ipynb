{
  "nbformat": 4,
  "nbformat_minor": 0,
  "metadata": {
    "colab": {
      "name": "fashion_mnist_dataset.ipynb",
      "provenance": [],
      "collapsed_sections": []
    },
    "kernelspec": {
      "name": "python3",
      "display_name": "Python 3"
    },
    "language_info": {
      "name": "python"
    }
  },
  "cells": [
    {
      "cell_type": "markdown",
      "metadata": {
        "id": "HiwWa2cMOZJz"
      },
      "source": [
        "importing necessary libreries"
      ]
    },
    {
      "cell_type": "code",
      "metadata": {
        "id": "Cb9PDv38OV42"
      },
      "source": [
        "from tensorflow.keras.utils import to_categorical\n",
        "import numpy as np\n",
        "import pandas as pd\n",
        "from matplotlib import pyplot\n",
        "from keras.datasets import fashion_mnist\n",
        "from sklearn.model_selection import KFold\n",
        "from tensorflow.keras.utils import to_categorical\n",
        "from keras.models import Sequential\n",
        "from keras.layers import Conv2D\n",
        "from keras.layers import MaxPooling2D\n",
        "from keras.layers import Dense\n",
        "from keras.layers import Flatten\n",
        "from tensorflow.keras.optimizers import SGD\n",
        "from keras.layers import BatchNormalization\n",
        "from keras.models import Sequential, load_model\n",
        "from keras.layers import Dense, Dropout, Flatten\n",
        "from keras.layers import Conv2D, MaxPooling2D \n",
        "from keras.layers import Dense, Dropout, Flatten\n",
        "from keras.layers import Conv2D, MaxPooling2D, BatchNormalization\n",
        "from tensorflow.keras.optimizers import Adam ,SGD\n",
        "from keras.preprocessing.image import ImageDataGenerator\n",
        "from keras.callbacks import ReduceLROnPlateau, LearningRateScheduler\n",
        "from matplotlib import pyplot as plt\n",
        "from sklearn.metrics import confusion_matrix\n",
        "import itertools"
      ],
      "execution_count": null,
      "outputs": []
    },
    {
      "cell_type": "markdown",
      "metadata": {
        "id": "1LfxrPwROlLt"
      },
      "source": [
        "ploting some pictures from fashion mnist dataset"
      ]
    },
    {
      "cell_type": "code",
      "metadata": {
        "id": "9ZU-29GKOfC5"
      },
      "source": [
        "def show_fashionmnist_pictures ():\n",
        "\n",
        "\t(trainX, trainy), (testX, testy) = fashion_mnist.load_data()\n",
        "\n",
        "\tprint('Train: X=%s, y=%s' % (trainX.shape, trainy.shape))\n",
        "\tprint('Test: X=%s, y=%s' % (testX.shape, testy.shape))\n",
        "\t\t\n",
        "\t\t\n",
        "\tpyplot.imshow(trainX[4], cmap=pyplot.get_cmap('gray'),aspect='auto')\n",
        "\t\n",
        "\tpyplot.show()"
      ],
      "execution_count": 21,
      "outputs": []
    },
    {
      "cell_type": "markdown",
      "metadata": {
        "id": "TkTkLx6XPDoA"
      },
      "source": [
        "run the 'show_fashionmnist_pictures' function "
      ]
    },
    {
      "cell_type": "code",
      "metadata": {
        "colab": {
          "base_uri": "https://localhost:8080/",
          "height": 299
        },
        "id": "PVNeRMcsOv4U",
        "outputId": "e8e085b2-23c4-469e-c25a-51ec9999080a"
      },
      "source": [
        "show_fashionmnist_pictures ()"
      ],
      "execution_count": 22,
      "outputs": [
        {
          "output_type": "stream",
          "name": "stdout",
          "text": [
            "Train: X=(60000, 28, 28), y=(60000,)\n",
            "Test: X=(10000, 28, 28), y=(10000,)\n"
          ]
        },
        {
          "output_type": "display_data",
          "data": {
            "image/png": "[encoded data removed]",
            "text/plain": [
              "<Figure size 432x288 with 1 Axes>"
            ]
          },
          "metadata": {
            "needs_background": "light"
          }
        }
      ]
    },
    {
      "cell_type": "markdown",
      "metadata": {
        "id": "cUZPL5P1PsyK"
      },
      "source": [
        "the below function will make the dataset ready for our work"
      ]
    },
    {
      "cell_type": "code",
      "metadata": {
        "id": "VZNsxgqbPdcM"
      },
      "source": [
        "def data_preprocessing():\n",
        "\n",
        "  (trainX, trainy ), (testX, testy) = fashion_mnist.load_data()\n",
        "\n",
        "  #reshaping the data \n",
        "  trainX = trainX.reshape((trainX.shape[0], 28, 28, 1))\n",
        "  testX =  testX.reshape((testX.shape[0], 28, 28, 1))\n",
        "  \n",
        "  #convert from integer to float to prevent from the error\n",
        "  trainX = trainX.astype('float32')\n",
        "  testX =  testX.astype('float32')\n",
        "  \n",
        "\n",
        "  #normalize the data\n",
        "  trainX /= 255.0\n",
        "  testX /= 255.0\n",
        "  \n",
        "\n",
        "  trainy = to_categorical(trainy)\n",
        "  testy = to_categorical(testy)\n",
        "\n",
        "  return trainX, trainy, testX, testy"
      ],
      "execution_count": null,
      "outputs": []
    },
    {
      "cell_type": "markdown",
      "metadata": {
        "id": "u96nLcLrRhvl"
      },
      "source": [
        "run the 'data_preprocessing' function "
      ]
    },
    {
      "cell_type": "code",
      "metadata": {
        "id": "7x96n2yVP9HY"
      },
      "source": [
        "trainX, trainy, testX, testy = data_preprocessing()"
      ],
      "execution_count": null,
      "outputs": []
    },
    {
      "cell_type": "markdown",
      "metadata": {
        "id": "hfP-eexmRx48"
      },
      "source": [
        "define the body of our model "
      ]
    },
    {
      "cell_type": "code",
      "metadata": {
        "id": "3m8V5adZROzE"
      },
      "source": [
        "def define_model():\n",
        "  model = Sequential()\n",
        "\n",
        "  model.add(Conv2D(filters=32, kernel_size=(3, 3), activation='relu', strides=1, padding='same', \n",
        "                 data_format='channels_last', input_shape=(28,28,1)))\n",
        "  model.add(MaxPooling2D(pool_size=(2, 2)))\n",
        "\n",
        "\n",
        "  model.add(Conv2D(filters=64, kernel_size=(3, 3), activation='relu', strides=1, padding='same', \n",
        "                 data_format='channels_last', input_shape=(28,28,1)))\n",
        "  model.add(MaxPooling2D(pool_size=(2, 2)))\n",
        "  \n",
        "  model.add(BatchNormalization())\n",
        "  model.add(Dropout(0.25))\n",
        "\n",
        "  model.add(Flatten())\n",
        "  model.add(Dense(512, activation='relu'))\n",
        "  model.add(BatchNormalization())\n",
        "  model.add(Dropout(0.5))\n",
        "  model.add(Dense(128, activation='relu'))\n",
        "  model.add(BatchNormalization())\n",
        "  model.add(Dropout(0.5))\n",
        "  model.add(Dense(10, activation='softmax'))\n",
        "\n",
        "  opt = SGD(learning_rate=0.01, momentum=0.9)\n",
        "  model.compile(optimizer=opt, loss='categorical_crossentropy', metrics=['accuracy'])\n",
        "\n",
        "  return model"
      ],
      "execution_count": null,
      "outputs": []
    },
    {
      "cell_type": "code",
      "metadata": {
        "id": "E65i_Wn0R7Mf"
      },
      "source": [
        "model = define_model()"
      ],
      "execution_count": null,
      "outputs": []
    },
    {
      "cell_type": "code",
      "metadata": {
        "colab": {
          "base_uri": "https://localhost:8080/"
        },
        "id": "y1nFugxESEV1",
        "outputId": "654bf209-310b-40cc-b32d-302dfc454cc5"
      },
      "source": [
        "model.summary()"
      ],
      "execution_count": null,
      "outputs": [
        {
          "output_type": "stream",
          "name": "stdout",
          "text": [
            "Model: \"sequential\"\n",
            "_________________________________________________________________\n",
            "Layer (type)                 Output Shape              Param #   \n",
            "=================================================================\n",
            "conv2d (Conv2D)              (None, 28, 28, 32)        320       \n",
            "_________________________________________________________________\n",
            "max_pooling2d (MaxPooling2D) (None, 14, 14, 32)        0         \n",
            "_________________________________________________________________\n",
            "conv2d_1 (Conv2D)            (None, 14, 14, 64)        18496     \n",
            "_________________________________________________________________\n",
            "max_pooling2d_1 (MaxPooling2 (None, 7, 7, 64)          0         \n",
            "_________________________________________________________________\n",
            "batch_normalization (BatchNo (None, 7, 7, 64)          256       \n",
            "_________________________________________________________________\n",
            "dropout (Dropout)            (None, 7, 7, 64)          0         \n",
            "_________________________________________________________________\n",
            "flatten (Flatten)            (None, 3136)              0         \n",
            "_________________________________________________________________\n",
            "dense (Dense)                (None, 512)               1606144   \n",
            "_________________________________________________________________\n",
            "batch_normalization_1 (Batch (None, 512)               2048      \n",
            "_________________________________________________________________\n",
            "dropout_1 (Dropout)          (None, 512)               0         \n",
            "_________________________________________________________________\n",
            "dense_1 (Dense)              (None, 128)               65664     \n",
            "_________________________________________________________________\n",
            "batch_normalization_2 (Batch (None, 128)               512       \n",
            "_________________________________________________________________\n",
            "dropout_2 (Dropout)          (None, 128)               0         \n",
            "_________________________________________________________________\n",
            "dense_2 (Dense)              (None, 10)                1290      \n",
            "=================================================================\n",
            "Total params: 1,694,730\n",
            "Trainable params: 1,693,322\n",
            "Non-trainable params: 1,408\n",
            "_________________________________________________________________\n"
          ]
        }
      ]
    },
    {
      "cell_type": "code",
      "metadata": {
        "id": "-Vx7H33XSIae"
      },
      "source": [
        "def save_model():\n",
        "\n",
        "  trainX, trainy, testX, testy = data_preprocessing()\n",
        "\n",
        "  model = define_model()\n",
        "\n",
        "  model.fit(trainX,trainy, epochs=1, batch_size=32, verbose=0)\n",
        "  model.save('final_model.h5')\n"
      ],
      "execution_count": null,
      "outputs": []
    },
    {
      "cell_type": "markdown",
      "metadata": {
        "id": "R5rvafTDS-tr"
      },
      "source": [
        "implementing k_fold cross validation"
      ]
    },
    {
      "cell_type": "code",
      "metadata": {
        "id": "KmjuGMYkSRvZ"
      },
      "source": [
        "def evaluate_model(x, y, num_folds=5):\n",
        "  scores = []\n",
        "  histories = []\n",
        "  loss_train_list = []\n",
        "  loss_test_list = []\n",
        "  \n",
        "\n",
        "  kfold = KFold(5, shuffle=True, random_state=1)\n",
        "\n",
        "  for train, test in kfold.split(x):\n",
        "  \n",
        "    # define model\n",
        "    model = define_model()\n",
        "  \n",
        "   \n",
        "    trainX, trainy, testX, testy = x[train], y[train], x[test], y[test]\n",
        "    \n",
        "    # fit model\n",
        "    network_history = model.fit(trainX, trainy, epochs=3, batch_size=32, validation_data=(testX,testy), verbose=0)\n",
        "    \n",
        "    \n",
        "    _, acc = model.evaluate(testX, testy, verbose=0)\n",
        "    print('> %.3f' % (acc * 100.0))\n",
        "    \n",
        "\n",
        "    \n",
        "    scores.append(acc)\n",
        "    histories.append(network_history)\n",
        "\n",
        "   \n",
        "\n",
        "\n",
        "    \n",
        "  \n",
        "  return scores  , histories"
      ],
      "execution_count": null,
      "outputs": []
    },
    {
      "cell_type": "markdown",
      "metadata": {
        "id": "jPpqv2_ddpyt"
      },
      "source": [
        "plot the classification accuracy"
      ]
    },
    {
      "cell_type": "code",
      "metadata": {
        "id": "7n-slOnUjXjg"
      },
      "source": [
        "def show_loss_and_entropy(histories):\n",
        "  for i in range(len(histories)):\n",
        "    \n",
        "  \n",
        "    \n",
        "    \n",
        "    pyplot.title('Classification Accuracy')\n",
        "    pyplot.plot(histories[i].history['accuracy'], color='green', label='train')\n",
        "    pyplot.plot(histories[i].history['val_accuracy'], color='orange', label='test')\n",
        "  \n",
        "  pyplot.show()\n",
        "  \n",
        "\n",
        "  \n",
        "  \n",
        "    \n",
        "\n",
        "\n",
        "  \n",
        "  \n"
      ],
      "execution_count": null,
      "outputs": []
    },
    {
      "cell_type": "code",
      "metadata": {
        "colab": {
          "base_uri": "https://localhost:8080/"
        },
        "id": "iJP-gexTxaoI",
        "outputId": "00cb271a-e99c-4ead-b7b1-6eb5d7fedb71"
      },
      "source": [
        "#load the dataset\n",
        "trainX, trainy, testX, testy = data_preprocessing()\n",
        "\n",
        "print('the result of validation with k_fold is ')\n",
        "scores, histories = evaluate_model(trainX, trainy)"
      ],
      "execution_count": null,
      "outputs": [
        {
          "output_type": "stream",
          "name": "stdout",
          "text": [
            "the result of validation with k_fold is \n",
            "> 89.017\n",
            "> 89.450\n",
            "> 89.292\n",
            "> 88.142\n",
            "> 88.958\n"
          ]
        }
      ]
    },
    {
      "cell_type": "code",
      "metadata": {
        "colab": {
          "base_uri": "https://localhost:8080/",
          "height": 281
        },
        "id": "0L5ns81IZyvd",
        "outputId": "61a8e073-329d-4d2d-e91d-7b53f6560e6d"
      },
      "source": [
        "show_loss_and_entropy(histories)"
      ],
      "execution_count": null,
      "outputs": [
        {
          "output_type": "display_data",
          "data": {
            "image/png": "[encoded data removed]",
            "text/plain": [
              "<Figure size 432x288 with 1 Axes>"
            ]
          },
          "metadata": {
            "needs_background": "light"
          }
        }
      ]
    },
    {
      "cell_type": "markdown",
      "metadata": {
        "id": "_hF_NwglbIlM"
      },
      "source": [
        "save the model"
      ]
    },
    {
      "cell_type": "code",
      "metadata": {
        "id": "2gyUXzE9bE2s"
      },
      "source": [
        "save_model()\n",
        "\n",
        "model = load_model('final_model.h5')\n"
      ],
      "execution_count": null,
      "outputs": []
    },
    {
      "cell_type": "markdown",
      "metadata": {
        "id": "LrSs403pddLD"
      },
      "source": [
        " plot the confusion matrix"
      ]
    },
    {
      "cell_type": "code",
      "metadata": {
        "id": "2CTBNbvJbexG"
      },
      "source": [
        "def plot_confusion_matrix(cm, classes,\n",
        "                          normalize=False,\n",
        "                          title='Confusion matrix',\n",
        "                          cmap=plt.cm.Blues):\n",
        "    \n",
        "    plt.imshow(cm, interpolation='nearest', cmap=cmap)\n",
        "    plt.title(title)\n",
        "    plt.colorbar()\n",
        "    tick_marks = np.arange(len(classes))\n",
        "    plt.xticks(tick_marks, classes, rotation=90)\n",
        "    plt.yticks(tick_marks, classes)\n",
        "\n",
        "    if normalize:\n",
        "        cm = cm.astype('float') / cm.sum(axis=1)[:, np.newaxis]\n",
        "\n",
        "    thresh = cm.max() / 2.\n",
        "    for i, j in itertools.product(range(cm.shape[0]), range(cm.shape[1])):\n",
        "        plt.text(j, i, cm[i, j],\n",
        "                 horizontalalignment=\"center\",\n",
        "                 color=\"white\" if cm[i, j] > thresh else \"black\")\n",
        "\n",
        "    plt.tight_layout()\n",
        "    plt.ylabel('True label')\n",
        "    plt.xlabel('Predicted label')"
      ],
      "execution_count": null,
      "outputs": []
    },
    {
      "cell_type": "markdown",
      "metadata": {
        "id": "WQPTVZEgdT-N"
      },
      "source": [
        "run the confusion matrix"
      ]
    },
    {
      "cell_type": "code",
      "metadata": {
        "colab": {
          "base_uri": "https://localhost:8080/",
          "height": 311
        },
        "id": "le9Nc8wPbm-V",
        "outputId": "2683c88d-31dc-4634-a3cb-3f3a6b3b2130"
      },
      "source": [
        "trainX, trainy, testX, testy = data_preprocessing()\n",
        "\n",
        "#creat model\n",
        "model = define_model()\n",
        "    \n",
        "    \n",
        "Y_pred = model.predict(testX)\n",
        "\n",
        "Y_pred_classes = np.argmax(Y_pred,axis = 1) \n",
        "# Convert validation observations to one hot vectors\n",
        "Y_true = np.argmax(testy,axis = 1) \n",
        "# compute the confusion matrix\n",
        "confusion_mtx = confusion_matrix(Y_true, Y_pred_classes) \n",
        "\n",
        "plot_confusion_matrix(confusion_mtx, classes = ['T-shirt/Top','Trouser','Pullover','Dress','Coat','Sandal','Shirt','Sneaker','Bag','Ankle Boot'])"
      ],
      "execution_count": null,
      "outputs": [
        {
          "output_type": "display_data",
          "data": {
            "image/png": "[encoded data removed]",
            "text/plain": [
              "<Figure size 432x288 with 2 Axes>"
            ]
          },
          "metadata": {
            "needs_background": "light"
          }
        }
      ]
    },
    {
      "cell_type": "code",
      "metadata": {
        "id": "RHafiNOjbyBD"
      },
      "source": [
        ""
      ],
      "execution_count": null,
      "outputs": []
    }
  ]
}